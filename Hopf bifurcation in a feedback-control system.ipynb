{
 "cells": [
  {
   "cell_type": "markdown",
   "metadata": {},
   "source": [
    "# Hopf bifurcation in a feedback-control system\n",
    "\n",
    "Consider the following nonlinear differential equation depending on positive parameters $(\\alpha, \\beta)$:\n",
    "\n",
    "$$\n",
    "\\frac{d^3 y}{dt^3} + \\alpha \\frac{d^2 y}{dt} + \\beta \\frac{dy}{dt} + y(1-y) = 0,\n",
    "$$\n",
    "\n",
    "which describes a simple feedback contral system of Lur'e type. By introducing\n",
    "$x_0=y, x_1 = \\dot x_0,$ and $x_2 = \\dot x_1$, we can rewrite the equation as the equivalent\n",
    "third-order system\n",
    "\n",
    "$$\n",
    "\\tag{1}\n",
    "\\begin{cases}\n",
    "\\dot x_0 &= x_1, \\\\\n",
    "\\dot x_1 &= x_2, \\\\\n",
    "\\dot x_2 &= -\\alpha x_2 - \\beta x_1 + x_0 + x_0^2. \\\\\n",
    "\\end{cases}\n",
    "$$\n",
    "\n",
    "## Linear analysis\n",
    "\n",
    "For all values of $(\\alpha, \\beta)$, system (5.40) has two equilibria $x^{(0)} = (0,0,0)$ and\n",
    "$x^{(1)} = (1,0,0)$. We will analyze the equilibrium at the origin. Frist we import the sympy library and define the system"
   ]
  },
  {
   "cell_type": "code",
   "execution_count": 1,
   "metadata": {},
   "outputs": [
    {
     "data": {
      "text/latex": [
       "$\\displaystyle \\left[\\begin{matrix}x_{1}\\\\x_{2}\\\\- \\alpha x_{2} - \\beta x_{1} + x_{0}^{2} - x_{0}\\end{matrix}\\right]$"
      ],
      "text/plain": [
       "Matrix([\n",
       "[                              x1],\n",
       "[                              x2],\n",
       "[-alpha*x2 - beta*x1 + x0**2 - x0]])"
      ]
     },
     "execution_count": 1,
     "metadata": {},
     "output_type": "execute_result"
    }
   ],
   "source": [
    "from sympy import *\n",
    "\n",
    "var('alpha, beta', real=True, positive=True)\n",
    "def F(x):\n",
    "    return Matrix([x[1], x[2], -alpha*x[2]-beta*x[1]-x[0]+x[0]**2])\n",
    "\n",
    "# show the system\n",
    "x = symbols('x:3')\n",
    "F(x)"
   ]
  },
  {
   "cell_type": "markdown",
   "metadata": {},
   "source": [
    "The Jacobian matrix of (1) evaluated at $x^{(0)}$ has the form"
   ]
  },
  {
   "cell_type": "code",
   "execution_count": 2,
   "metadata": {},
   "outputs": [
    {
     "data": {
      "text/latex": [
       "$\\displaystyle \\left[\\begin{matrix}0 & 1 & 0\\\\0 & 0 & 1\\\\-1 & - \\beta & - \\alpha\\end{matrix}\\right]$"
      ],
      "text/plain": [
       "Matrix([\n",
       "[ 0,     1,      0],\n",
       "[ 0,     0,      1],\n",
       "[-1, -beta, -alpha]])"
      ]
     },
     "execution_count": 2,
     "metadata": {},
     "output_type": "execute_result"
    }
   ],
   "source": [
    "J = F(x).jacobian(x).subs(dict(zip(x,[0,0,0])))\n",
    "J"
   ]
  },
  {
   "cell_type": "markdown",
   "metadata": {},
   "source": [
    "The characteristic polynomial of $J$ is given by"
   ]
  },
  {
   "cell_type": "code",
   "execution_count": 3,
   "metadata": {},
   "outputs": [
    {
     "data": {
      "text/latex": [
       "$\\displaystyle \\operatorname{PurePoly}{\\left( \\lambda^{3} + \\alpha \\lambda^{2} + \\beta \\lambda + 1, \\lambda, domain=\\mathbb{Z}\\left[\\alpha, \\beta\\right] \\right)}$"
      ],
      "text/plain": [
       "PurePoly(lambda**3 + alpha*lambda**2 + beta*lambda + 1, lambda, domain='ZZ[alpha,beta]')"
      ]
     },
     "execution_count": 3,
     "metadata": {},
     "output_type": "execute_result"
    }
   ],
   "source": [
    "J.charpoly()"
   ]
  },
  {
   "cell_type": "markdown",
   "metadata": {},
   "source": [
    "To find parameters $\\alpha$ and $\\beta$ corresponding to purely imaginary of $x^{(0)}$ we substitude $\\lambda = i\\omega$ into the last equation."
   ]
  },
  {
   "cell_type": "code",
   "execution_count": 4,
   "metadata": {},
   "outputs": [
    {
     "data": {
      "text/latex": [
       "$\\displaystyle - \\alpha \\omega^{2} + i \\beta \\omega - i \\omega^{3} + 1$"
      ],
      "text/plain": [
       "-alpha*omega**2 + I*beta*omega - I*omega**3 + 1"
      ]
     },
     "execution_count": 4,
     "metadata": {},
     "output_type": "execute_result"
    }
   ],
   "source": [
    "var('omega', real=True, positive=True)\n",
    "(J.charpoly())(I*omega)"
   ]
  },
  {
   "cell_type": "markdown",
   "metadata": {},
   "source": [
    "Solving the last equation for $(\\alpha, \\beta)$ yields"
   ]
  },
  {
   "cell_type": "code",
   "execution_count": 5,
   "metadata": {},
   "outputs": [
    {
     "name": "stdout",
     "output_type": "stream",
     "text": [
      "⎧   1       2⎫\n",
      "⎪α: ──, β: ω ⎪\n",
      "⎨    2       ⎬\n",
      "⎪   ω        ⎪\n",
      "⎩            ⎭\n"
     ]
    }
   ],
   "source": [
    "sol = solve((J.charpoly())(I*omega), alpha, beta)\n",
    "pprint(sol)"
   ]
  },
  {
   "cell_type": "markdown",
   "metadata": {},
   "source": [
    "Therefore, a necessary condition for the characterictic equation to have purely imaginary roots $\\lambda_{1,2} = \\pm i\\omega$ is\n",
    "\n",
    "\\begin{equation}\n",
    "    \\tag{2}\n",
    "    \\alpha = \\alpha_0(\\beta) = \\dfrac1 \\beta, \\beta>0.\n",
    "\\end{equation}\n",
    "\n",
    "It is easy to check that the origin is stable if $\\alpha>\\alpha_0$ and unstable if $\\alpha<\\alpha_0$. The transition is caused by a simple pair of complex-conjugate eigenvalues crossing the imaginary axis at $\\lambda = \\pm i \\omega$ where\n",
    "\n",
    "$$\n",
    "\\omega^2 = \\beta.\n",
    "$$\n",
    "\n",
    "The velocity of the crossing is nonzero and the third eigenvalue $\\lambda_3$ remains\n",
    "negative for nearby parameter values. Thus, a Hopf bifurcation takes place.\n",
    "In order to analyze the bifurcation (i.e., to determine the direction of the limit\n",
    "cycle bifurcation), we have to compute the first Lyapunov coefficient $l_1(0)$ of\n",
    "the restricted system on the center manifold at the critical parameter values.\n",
    "If $l_1(0) < 0$, the bifurcation is supercritical and a unique stable limit cycle\n",
    "bifurcates from the origin for $\\alpha<\\alpha_0(\\beta)$. As we shall see, this is indeed the\n",
    "case in system (1).\n",
    "Therefore, fix $\\alpha$ at its critical value $\\alpha_0$ given by (2) and leave $\\beta$ free\n",
    "to vary. Notice that the elements of the Jacobian matrix at the Hopf bifurcation are rational \n",
    "functions of $\\omega^2$:"
   ]
  },
  {
   "cell_type": "code",
   "execution_count": 6,
   "metadata": {},
   "outputs": [
    {
     "data": {
      "text/latex": [
       "$\\displaystyle \\left[\\begin{matrix}0 & 1 & 0\\\\0 & 0 & 1\\\\-1 & - \\omega^{2} & - \\frac{1}{\\omega^{2}}\\end{matrix}\\right]$"
      ],
      "text/plain": [
       "Matrix([\n",
       "[ 0,         1,           0],\n",
       "[ 0,         0,           1],\n",
       "[-1, -omega**2, -1/omega**2]])"
      ]
     },
     "execution_count": 6,
     "metadata": {},
     "output_type": "execute_result"
    }
   ],
   "source": [
    "A = J.subs(sol)\n",
    "A"
   ]
  },
  {
   "cell_type": "markdown",
   "metadata": {},
   "source": [
    "### Eigenvectors"
   ]
  },
  {
   "cell_type": "markdown",
   "metadata": {},
   "source": [
    "Next we select the eigenvectors from $A$ such that\n",
    "\n",
    "$$\n",
    "Aq=i\\omega q, \\qquad A^T p = -i \\omega p\n",
    "$$\n",
    "\n",
    "hold."
   ]
  },
  {
   "cell_type": "code",
   "execution_count": 7,
   "metadata": {},
   "outputs": [
    {
     "data": {
      "text/latex": [
       "$$q = \\left[\\begin{matrix}1\\\\i \\omega\\\\- \\omega^{2}\\end{matrix}\\right], \\qquad p=\\left[\\begin{matrix}i \\omega\\\\i \\omega^{3} - 1\\\\- \\omega^{2}\\end{matrix}\\right].$$"
      ],
      "text/plain": [
       "<IPython.core.display.Latex object>"
      ]
     },
     "metadata": {},
     "output_type": "display_data"
    }
   ],
   "source": [
    "q = -omega**2*A.eigenvects()[2][2][0]\n",
    "p = -omega**2*A.H.eigenvects()[1][2][0]\n",
    "p = simplify(p)\n",
    "\n",
    "# display p and q\n",
    "from IPython.display import display, Latex\n",
    "result = \"$$q = {}, \\qquad p={}.$$\".format(latex(q), latex(p))\n",
    "display(Latex(result))"
   ]
  },
  {
   "cell_type": "markdown",
   "metadata": {},
   "source": [
    "Here we scaled the eigenvectors such that they agree with the book. In order to achieve the normalization $\\langle p, q \\rangle = 1$ we scale the left eigenvector $p$"
   ]
  },
  {
   "cell_type": "code",
   "execution_count": 8,
   "metadata": {},
   "outputs": [
    {
     "data": {
      "text/latex": [
       "$\\displaystyle 1$"
      ],
      "text/plain": [
       "1"
      ]
     },
     "execution_count": 8,
     "metadata": {},
     "output_type": "execute_result"
    }
   ],
   "source": [
    "c = simplify(1/(p.dot(q, hermitian=True))).conjugate()\n",
    "p = simplify(c*p)\n",
    "simplify(p.dot(q, hermitian=True))"
   ]
  },
  {
   "cell_type": "markdown",
   "metadata": {},
   "source": [
    "The linear part of the analysis is now complete.\n",
    "\n",
    "##  Nonlinear analysis"
   ]
  },
  {
   "cell_type": "markdown",
   "metadata": {},
   "source": [
    "The linear part of the analysis is now complete.\n",
    "There is only one nonlinear (quadratic) term in (1). Therefore, the\n",
    "bilinear function $B(v_0,v_1)$, defined for two vectors $v_0 = (v_{00}, v_{01}, v_{02})^T \\in \\mathbb R^3$ and\n",
    "$v_0 = (v_{10}, v_{11}, v_{12})^T \\in \\mathbb R^3$, can be expressed as"
   ]
  },
  {
   "cell_type": "code",
   "execution_count": 9,
   "metadata": {},
   "outputs": [
    {
     "data": {
      "text/latex": [
       "$\\displaystyle \\left[\\begin{matrix}0\\\\0\\\\2 v_{00} v_{10}\\end{matrix}\\right]$"
      ],
      "text/plain": [
       "Matrix([\n",
       "[        0],\n",
       "[        0],\n",
       "[2*v00*v10]])"
      ]
     },
     "execution_count": 9,
     "metadata": {},
     "output_type": "execute_result"
    }
   ],
   "source": [
    "v = Matrix(symbols('v:3:3'))\n",
    "v = transpose(v.reshape(3,3))\n",
    "\n",
    "DF1 = F(x).jacobian(x)\n",
    "DF2 = (DF1*v[:,0]).jacobian(x)*v[:,1]\n",
    "DF3 = DF2.jacobian(x)*v[:,2]\n",
    "\n",
    "def B(v0,v1):\n",
    "    d0 = dict(zip(v[:,0], v0))\n",
    "    d1 = dict(zip(v[:,1], v1))\n",
    "    return DF2.subs(d0).subs(d1)\n",
    "\n",
    "B(v[:,0], v[:,1])"
   ]
  },
  {
   "cell_type": "markdown",
   "metadata": {},
   "source": [
    "while $C(v_0,v_1,v_2) \\equiv 0$ "
   ]
  },
  {
   "cell_type": "code",
   "execution_count": 10,
   "metadata": {},
   "outputs": [
    {
     "data": {
      "text/latex": [
       "$\\displaystyle \\left[\\begin{matrix}0\\\\0\\\\0\\end{matrix}\\right]$"
      ],
      "text/plain": [
       "Matrix([\n",
       "[0],\n",
       "[0],\n",
       "[0]])"
      ]
     },
     "execution_count": 10,
     "metadata": {},
     "output_type": "execute_result"
    }
   ],
   "source": [
    "DF3"
   ]
  },
  {
   "cell_type": "markdown",
   "metadata": {},
   "source": [
    "Therefore,"
   ]
  },
  {
   "cell_type": "code",
   "execution_count": 11,
   "metadata": {},
   "outputs": [
    {
     "data": {
      "text/latex": [
       "$\\displaystyle \\left[\\begin{matrix}0\\\\0\\\\2\\end{matrix}\\right]$"
      ],
      "text/plain": [
       "Matrix([\n",
       "[0],\n",
       "[0],\n",
       "[2]])"
      ]
     },
     "execution_count": 11,
     "metadata": {},
     "output_type": "execute_result"
    }
   ],
   "source": [
    "B(q,q)"
   ]
  },
  {
   "cell_type": "code",
   "execution_count": 12,
   "metadata": {},
   "outputs": [
    {
     "data": {
      "text/latex": [
       "$\\displaystyle \\left[\\begin{matrix}0\\\\0\\\\2\\end{matrix}\\right]$"
      ],
      "text/plain": [
       "Matrix([\n",
       "[0],\n",
       "[0],\n",
       "[2]])"
      ]
     },
     "execution_count": 12,
     "metadata": {},
     "output_type": "execute_result"
    }
   ],
   "source": [
    "B(q,conjugate(q))"
   ]
  },
  {
   "cell_type": "markdown",
   "metadata": {},
   "source": [
    "and solving the corresponding linear systems yields"
   ]
  },
  {
   "cell_type": "code",
   "execution_count": 13,
   "metadata": {},
   "outputs": [
    {
     "data": {
      "text/latex": [
       "$\\displaystyle \\left[\\begin{matrix}-2\\\\0\\\\0\\end{matrix}\\right]$"
      ],
      "text/plain": [
       "Matrix([\n",
       "[-2],\n",
       "[ 0],\n",
       "[ 0]])"
      ]
     },
     "execution_count": 13,
     "metadata": {},
     "output_type": "execute_result"
    }
   ],
   "source": [
    "s = linsolve((A, B(q,conjugate(q))))\n",
    "s = Matrix(list(s)).transpose()\n",
    "s"
   ]
  },
  {
   "cell_type": "markdown",
   "metadata": {},
   "source": [
    "and"
   ]
  },
  {
   "cell_type": "code",
   "execution_count": 14,
   "metadata": {},
   "outputs": [
    {
     "data": {
      "text/latex": [
       "$\\displaystyle \\left[\\begin{matrix}- \\frac{2}{6 i \\omega^{3} + 3}\\\\\\frac{4 \\omega}{3 \\left(- 2 \\omega^{3} + i\\right)}\\\\\\frac{8 \\omega^{2}}{3 \\left(2 i \\omega^{3} + 1\\right)}\\end{matrix}\\right]$"
      ],
      "text/plain": [
       "Matrix([\n",
       "[            -2/(6*I*omega**3 + 3)],\n",
       "[    4*omega/(3*(-2*omega**3 + I))],\n",
       "[8*omega**2/(3*(2*I*omega**3 + 1))]])"
      ]
     },
     "execution_count": 14,
     "metadata": {},
     "output_type": "execute_result"
    }
   ],
   "source": [
    "r = linsolve((2*I*omega*eye(3)-A, B(q,q)))\n",
    "r = Matrix(list(r)).transpose()\n",
    "r"
   ]
  },
  {
   "cell_type": "markdown",
   "metadata": {},
   "source": [
    "Finally, the first Lyapunov coefficient becomes"
   ]
  },
  {
   "cell_type": "code",
   "execution_count": 15,
   "metadata": {},
   "outputs": [
    {
     "data": {
      "text/latex": [
       "$\\displaystyle - \\frac{8 \\omega^{9} + \\omega^{3}}{4 \\omega^{12} + 5 \\omega^{6} + 1}$"
      ],
      "text/plain": [
       "-(8*omega**9 + omega**3)/(4*omega**12 + 5*omega**6 + 1)"
      ]
     },
     "execution_count": 15,
     "metadata": {},
     "output_type": "execute_result"
    }
   ],
   "source": [
    "l1 = simplify(1/(2*omega)*re(-2*p.dot(B(q,s), hermitian=True) + p.dot(B(conjugate(q),r), hermitian=True)))\n",
    "l1"
   ]
  },
  {
   "cell_type": "markdown",
   "metadata": {},
   "source": [
    "We can now return to the parameter $\\beta$ by making the substitution $\\omega^2\\beta$."
   ]
  },
  {
   "cell_type": "code",
   "execution_count": 16,
   "metadata": {},
   "outputs": [
    {
     "data": {
      "text/latex": [
       "$\\displaystyle - \\frac{\\beta^{\\frac{3}{2}} \\left(8 \\beta^{3} + 1\\right)}{4 \\beta^{6} + 5 \\beta^{3} + 1}$"
      ],
      "text/plain": [
       "-beta**(3/2)*(8*beta**3 + 1)/(4*beta**6 + 5*beta**3 + 1)"
      ]
     },
     "execution_count": 16,
     "metadata": {},
     "output_type": "execute_result"
    }
   ],
   "source": [
    "simplify(l1.subs(omega, sqrt(beta)))"
   ]
  },
  {
   "cell_type": "markdown",
   "metadata": {},
   "source": [
    "The first Lyapunov coefficient is clearly negative for all parameters $\\beta$:"
   ]
  },
  {
   "cell_type": "code",
   "execution_count": 17,
   "metadata": {},
   "outputs": [
    {
     "data": {
      "text/plain": [
       "True"
      ]
     },
     "execution_count": 17,
     "metadata": {},
     "output_type": "execute_result"
    }
   ],
   "source": [
    "simplify(l1.subs(omega, sqrt(beta))).is_negative"
   ]
  },
  {
   "cell_type": "markdown",
   "metadata": {},
   "source": [
    "Thus, the Hopf bifurcation is nondegenerate and always supercritical."
   ]
  },
  {
   "cell_type": "markdown",
   "metadata": {},
   "source": [
    "## Simulation"
   ]
  },
  {
   "cell_type": "markdown",
   "metadata": {},
   "source": [
    "Next we fix $\\alpha=1$ and integrate the system before and after the Hopf bifucation with parametervalues $\\beta=1.2$ and $\\beta=0.8$ to demonstrate the damped and sustained oscillations, respectively.\n",
    "\n",
    "First we import the necessary packages"
   ]
  },
  {
   "cell_type": "code",
   "execution_count": 18,
   "metadata": {},
   "outputs": [],
   "source": [
    "from scipy.integrate import odeint\n",
    "import matplotlib.pyplot as plt\n",
    "import numpy as np"
   ]
  },
  {
   "cell_type": "markdown",
   "metadata": {},
   "source": [
    "For simulation the system is implemented as"
   ]
  },
  {
   "cell_type": "code",
   "execution_count": 19,
   "metadata": {},
   "outputs": [],
   "source": [
    "def f(x, t, alpha, beta):\n",
    "    x0, x1, x2 = x\n",
    "    dydt = [x1, x2, -alpha*x2 - beta*x1 - x0 + x0**2]\n",
    "    return dydt"
   ]
  },
  {
   "cell_type": "markdown",
   "metadata": {},
   "source": [
    "We start integrating from $x_{i} = (0.1, 0.1, 0.1)$ over the time interval $[0,70]$."
   ]
  },
  {
   "cell_type": "code",
   "execution_count": 20,
   "metadata": {},
   "outputs": [],
   "source": [
    "xi = [0.1, 0.1, 0.1];\n",
    "t = np.linspace(0,70,1000)\n",
    "alpha = 1\n",
    "beta = 1.2\n",
    "sol1 = odeint(f, xi, t, args=(alpha, beta))\n",
    "beta = 0.8\n",
    "sol2 = odeint(f, xi, t, args=(alpha, beta))"
   ]
  },
  {
   "cell_type": "markdown",
   "metadata": {},
   "source": [
    "Lastly, we plot the $x_0(t)$ component, i.e, the solution $y(t)$, of the obtained solutions"
   ]
  },
  {
   "cell_type": "code",
   "execution_count": 21,
   "metadata": {},
   "outputs": [
    {
     "data": {
      "image/png": "[encoded data removed]",
      "text/plain": [
       "<Figure size 432x288 with 1 Axes>"
      ]
     },
     "metadata": {
      "needs_background": "light"
     },
     "output_type": "display_data"
    }
   ],
   "source": [
    "plt.plot(t, sol1[:, 0], 'b', label='sol1')\n",
    "plt.plot(t, sol2[:, 0], 'g', label='sol2')\n",
    "plt.legend(loc='best')\n",
    "plt.xlabel('$t$')\n",
    "plt.ylabel('$x_0(t)$')\n",
    "plt.grid()\n",
    "plt.rcParams['figure.figsize'] = [10, 10]\n",
    "plt.show()"
   ]
  }
 ],
 "metadata": {
  "@webio": {
   "lastCommId": null,
   "lastKernelId": null
  },
  "kernelspec": {
   "display_name": "Python 3",
   "language": "python",
   "name": "python3"
  },
  "language_info": {
   "codemirror_mode": {
    "name": "ipython",
    "version": 3
   },
   "file_extension": ".py",
   "mimetype": "text/x-python",
   "name": "python",
   "nbconvert_exporter": "python",
   "pygments_lexer": "ipython3",
   "version": "3.8.3"
  }
 },
 "nbformat": 4,
 "nbformat_minor": 4
}
